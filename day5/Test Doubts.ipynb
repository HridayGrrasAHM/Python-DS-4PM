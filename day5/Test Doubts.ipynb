{
 "cells": [
  {
   "cell_type": "code",
   "execution_count": 1,
   "metadata": {},
   "outputs": [
    {
     "name": "stdout",
     "output_type": "stream",
     "text": [
      "Hello world\n"
     ]
    }
   ],
   "source": [
    "print(\"Hello world\")"
   ]
  },
  {
   "cell_type": "code",
   "execution_count": 15,
   "metadata": {},
   "outputs": [],
   "source": [
    "num = 11"
   ]
  },
  {
   "cell_type": "code",
   "execution_count": 23,
   "metadata": {},
   "outputs": [],
   "source": [
    "# num = 98\n",
    "def isPrime(n):\n",
    "    switch = False\n",
    "    for i in range(2, n):\n",
    "        if (n%i==0):\n",
    "            # print(\"Not prime\")\n",
    "            switch = False\n",
    "            break\n",
    "        else:\n",
    "            # print(\"Prime\")\n",
    "            switch = True\n",
    "            # break\n",
    "\n",
    "    if(switch):\n",
    "        # print(\"Prime\", n)\n",
    "        return f\"Prime {n}\""
   ]
  },
  {
   "cell_type": "code",
   "execution_count": 26,
   "metadata": {},
   "outputs": [
    {
     "name": "stdout",
     "output_type": "stream",
     "text": [
      "Prime 3\n",
      "Prime 5\n",
      "Prime 7\n",
      "Prime 11\n",
      "Prime 13\n",
      "Prime 17\n",
      "Prime 19\n",
      "Prime 23\n",
      "Prime 29\n",
      "Prime 31\n",
      "Prime 37\n",
      "Prime 41\n",
      "Prime 43\n",
      "Prime 47\n",
      "Prime 53\n",
      "Prime 59\n",
      "Prime 61\n",
      "Prime 67\n",
      "Prime 71\n",
      "Prime 73\n",
      "Prime 79\n",
      "Prime 83\n",
      "Prime 89\n",
      "Prime 97\n",
      "Prime 101\n",
      "Prime 103\n",
      "Prime 107\n",
      "Prime 109\n",
      "Prime 113\n",
      "Prime 127\n",
      "Prime 131\n",
      "Prime 137\n",
      "Prime 139\n",
      "Prime 149\n",
      "Prime 151\n",
      "Prime 157\n",
      "Prime 163\n",
      "Prime 167\n",
      "Prime 173\n",
      "Prime 179\n",
      "Prime 181\n",
      "Prime 191\n",
      "Prime 193\n",
      "Prime 197\n",
      "Prime 199\n",
      "Prime 211\n",
      "Prime 223\n",
      "Prime 227\n",
      "Prime 229\n",
      "Prime 233\n",
      "Prime 239\n",
      "Prime 241\n",
      "Prime 251\n",
      "Prime 257\n",
      "Prime 263\n",
      "Prime 269\n",
      "Prime 271\n",
      "Prime 277\n",
      "Prime 281\n",
      "Prime 283\n",
      "Prime 293\n",
      "Prime 307\n",
      "Prime 311\n",
      "Prime 313\n",
      "Prime 317\n",
      "Prime 331\n",
      "Prime 337\n",
      "Prime 347\n",
      "Prime 349\n",
      "Prime 353\n",
      "Prime 359\n",
      "Prime 367\n",
      "Prime 373\n",
      "Prime 379\n",
      "Prime 383\n",
      "Prime 389\n",
      "Prime 397\n",
      "Prime 401\n",
      "Prime 409\n",
      "Prime 419\n",
      "Prime 421\n",
      "Prime 431\n",
      "Prime 433\n",
      "Prime 439\n",
      "Prime 443\n",
      "Prime 449\n",
      "Prime 457\n",
      "Prime 461\n",
      "Prime 463\n",
      "Prime 467\n",
      "Prime 479\n",
      "Prime 487\n",
      "Prime 491\n",
      "Prime 499\n",
      "Prime 503\n",
      "Prime 509\n",
      "Prime 521\n",
      "Prime 523\n",
      "Prime 541\n",
      "Prime 547\n",
      "Prime 557\n",
      "Prime 563\n",
      "Prime 569\n",
      "Prime 571\n",
      "Prime 577\n",
      "Prime 587\n",
      "Prime 593\n",
      "Prime 599\n",
      "Prime 601\n",
      "Prime 607\n",
      "Prime 613\n",
      "Prime 617\n",
      "Prime 619\n",
      "Prime 631\n",
      "Prime 641\n",
      "Prime 643\n",
      "Prime 647\n",
      "Prime 653\n",
      "Prime 659\n",
      "Prime 661\n",
      "Prime 673\n",
      "Prime 677\n",
      "Prime 683\n",
      "Prime 691\n",
      "Prime 701\n",
      "Prime 709\n",
      "Prime 719\n",
      "Prime 727\n",
      "Prime 733\n",
      "Prime 739\n",
      "Prime 743\n",
      "Prime 751\n",
      "Prime 757\n",
      "Prime 761\n",
      "Prime 769\n",
      "Prime 773\n",
      "Prime 787\n",
      "Prime 797\n",
      "Prime 809\n",
      "Prime 811\n",
      "Prime 821\n",
      "Prime 823\n",
      "Prime 827\n",
      "Prime 829\n",
      "Prime 839\n",
      "Prime 853\n",
      "Prime 857\n",
      "Prime 859\n",
      "Prime 863\n",
      "Prime 877\n",
      "Prime 881\n",
      "Prime 883\n",
      "Prime 887\n",
      "Prime 907\n",
      "Prime 911\n",
      "Prime 919\n",
      "Prime 929\n",
      "Prime 937\n",
      "Prime 941\n",
      "Prime 947\n",
      "Prime 953\n",
      "Prime 967\n",
      "Prime 971\n",
      "Prime 977\n",
      "Prime 983\n",
      "Prime 991\n",
      "Prime 997\n"
     ]
    }
   ],
   "source": [
    "for i in range(2, 1001):\n",
    "    if(isPrime(i) == None):\n",
    "        pass\n",
    "    else:\n",
    "        print(isPrime(i))"
   ]
  },
  {
   "cell_type": "code",
   "execution_count": 27,
   "metadata": {},
   "outputs": [],
   "source": [
    "def primeFactor(n):\n",
    "    "
   ]
  },
  {
   "cell_type": "code",
   "execution_count": 29,
   "metadata": {},
   "outputs": [
    {
     "ename": "TypeError",
     "evalue": "unsupported operand type(s) for %: 'NoneType' and 'int'",
     "output_type": "error",
     "traceback": [
      "\u001b[1;31m---------------------------------------------------------------------------\u001b[0m",
      "\u001b[1;31mTypeError\u001b[0m                                 Traceback (most recent call last)",
      "\u001b[1;32md:\\Work\\GRRAS\\Batches\\Regular\\Ongoing\\400PMPython\\day5\\Functions and Patter printing in Python.ipynb Cell 6\u001b[0m line \u001b[0;36m1\n\u001b[1;32m----> <a href='vscode-notebook-cell:/d%3A/Work/GRRAS/Batches/Regular/Ongoing/400PMPython/day5/Functions%20and%20Patter%20printing%20in%20Python.ipynb#W5sZmlsZQ%3D%3D?line=0'>1</a>\u001b[0m primeFactor(\u001b[39m5\u001b[39;49m)\n",
      "\u001b[1;32md:\\Work\\GRRAS\\Batches\\Regular\\Ongoing\\400PMPython\\day5\\Functions and Patter printing in Python.ipynb Cell 6\u001b[0m line \u001b[0;36m3\n\u001b[0;32m      <a href='vscode-notebook-cell:/d%3A/Work/GRRAS/Batches/Regular/Ongoing/400PMPython/day5/Functions%20and%20Patter%20printing%20in%20Python.ipynb#W5sZmlsZQ%3D%3D?line=0'>1</a>\u001b[0m \u001b[39mdef\u001b[39;00m \u001b[39mprimeFactor\u001b[39m(n):\n\u001b[0;32m      <a href='vscode-notebook-cell:/d%3A/Work/GRRAS/Batches/Regular/Ongoing/400PMPython/day5/Functions%20and%20Patter%20printing%20in%20Python.ipynb#W5sZmlsZQ%3D%3D?line=1'>2</a>\u001b[0m     \u001b[39mfor\u001b[39;00m i \u001b[39min\u001b[39;00m \u001b[39mrange\u001b[39m(\u001b[39m2\u001b[39m, n):\n\u001b[1;32m----> <a href='vscode-notebook-cell:/d%3A/Work/GRRAS/Batches/Regular/Ongoing/400PMPython/day5/Functions%20and%20Patter%20printing%20in%20Python.ipynb#W5sZmlsZQ%3D%3D?line=2'>3</a>\u001b[0m         \u001b[39mif\u001b[39;00m isPrime(i)\u001b[39m%\u001b[39;49mn \u001b[39m==\u001b[39m \u001b[39m0\u001b[39m:\n\u001b[0;32m      <a href='vscode-notebook-cell:/d%3A/Work/GRRAS/Batches/Regular/Ongoing/400PMPython/day5/Functions%20and%20Patter%20printing%20in%20Python.ipynb#W5sZmlsZQ%3D%3D?line=3'>4</a>\u001b[0m             \u001b[39mreturn\u001b[39;00m i\n\u001b[0;32m      <a href='vscode-notebook-cell:/d%3A/Work/GRRAS/Batches/Regular/Ongoing/400PMPython/day5/Functions%20and%20Patter%20printing%20in%20Python.ipynb#W5sZmlsZQ%3D%3D?line=4'>5</a>\u001b[0m         \u001b[39melse\u001b[39;00m:\n",
      "\u001b[1;31mTypeError\u001b[0m: unsupported operand type(s) for %: 'NoneType' and 'int'"
     ]
    }
   ],
   "source": [
    "primeFactor(5)"
   ]
  },
  {
   "cell_type": "code",
   "execution_count": 17,
   "metadata": {},
   "outputs": [
    {
     "name": "stdout",
     "output_type": "stream",
     "text": [
      "0 2 210 106\n",
      "0 3 105 53\n",
      "0 5 35 18\n",
      "7\n"
     ]
    }
   ],
   "source": [
    "n = 210\n",
    "arr = []\n",
    "while n>1:\n",
    "    for i in range(2, int(2+n//2)):\n",
    "        if i == (1+n//2):\n",
    "            arr.append(n)\n",
    "            print(n)\n",
    "            n = n//n\n",
    "            # print(n)\n",
    "            # print(arr)\n",
    "        elif n%i == 0:\n",
    "            arr.append(i)\n",
    "            print(n%i, i, n, (1+n//2))\n",
    "            # print(arr)\n",
    "            # print(i)\n",
    "            n = n//i\n",
    "            # print(n, i)\n",
    "            break\n",
    "        # print(i)\n",
    "    # print(n)\n",
    "# print(arr)"
   ]
  },
  {
   "cell_type": "code",
   "execution_count": 32,
   "metadata": {},
   "outputs": [
    {
     "data": {
      "text/plain": [
       "107"
      ]
     },
     "execution_count": 32,
     "metadata": {},
     "output_type": "execute_result"
    }
   ],
   "source": [
    "2+210//2"
   ]
  },
  {
   "cell_type": "code",
   "execution_count": 33,
   "metadata": {},
   "outputs": [
    {
     "data": {
      "text/plain": [
       "106"
      ]
     },
     "execution_count": 33,
     "metadata": {},
     "output_type": "execute_result"
    }
   ],
   "source": [
    "1 + 210//2"
   ]
  },
  {
   "cell_type": "code",
   "execution_count": 34,
   "metadata": {},
   "outputs": [
    {
     "data": {
      "text/plain": [
       "1"
      ]
     },
     "execution_count": 34,
     "metadata": {},
     "output_type": "execute_result"
    }
   ],
   "source": [
    "210//210"
   ]
  },
  {
   "cell_type": "code",
   "execution_count": 9,
   "metadata": {},
   "outputs": [
    {
     "data": {
      "text/plain": [
       "105.0"
      ]
     },
     "execution_count": 9,
     "metadata": {},
     "output_type": "execute_result"
    }
   ],
   "source": [
    "210/2"
   ]
  },
  {
   "cell_type": "code",
   "execution_count": 10,
   "metadata": {},
   "outputs": [
    {
     "data": {
      "text/plain": [
       "35.0"
      ]
     },
     "execution_count": 10,
     "metadata": {},
     "output_type": "execute_result"
    }
   ],
   "source": [
    "105/3"
   ]
  },
  {
   "cell_type": "code",
   "execution_count": 11,
   "metadata": {},
   "outputs": [
    {
     "data": {
      "text/plain": [
       "7.0"
      ]
     },
     "execution_count": 11,
     "metadata": {},
     "output_type": "execute_result"
    }
   ],
   "source": [
    "35/5"
   ]
  },
  {
   "cell_type": "code",
   "execution_count": 13,
   "metadata": {},
   "outputs": [
    {
     "data": {
      "text/plain": [
       "26"
      ]
     },
     "execution_count": 13,
     "metadata": {},
     "output_type": "execute_result"
    }
   ],
   "source": [
    "105//4"
   ]
  },
  {
   "cell_type": "code",
   "execution_count": null,
   "metadata": {},
   "outputs": [],
   "source": []
  }
 ],
 "metadata": {
  "kernelspec": {
   "display_name": "base",
   "language": "python",
   "name": "python3"
  },
  "language_info": {
   "codemirror_mode": {
    "name": "ipython",
    "version": 3
   },
   "file_extension": ".py",
   "mimetype": "text/x-python",
   "name": "python",
   "nbconvert_exporter": "python",
   "pygments_lexer": "ipython3",
   "version": "3.10.9"
  }
 },
 "nbformat": 4,
 "nbformat_minor": 2
}
