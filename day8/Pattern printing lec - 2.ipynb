{
 "cells": [
  {
   "cell_type": "code",
   "execution_count": 1,
   "metadata": {},
   "outputs": [
    {
     "name": "stdout",
     "output_type": "stream",
     "text": [
      "Hello world\n"
     ]
    }
   ],
   "source": [
    "print(\"Hello world\")"
   ]
  },
  {
   "cell_type": "code",
   "execution_count": 2,
   "metadata": {},
   "outputs": [],
   "source": [
    "# for (start, end, step) increment\n",
    "# for (end, start, step (reverse)) decrement"
   ]
  },
  {
   "cell_type": "code",
   "execution_count": 4,
   "metadata": {},
   "outputs": [
    {
     "name": "stdout",
     "output_type": "stream",
     "text": [
      "0\n",
      "1\n",
      "2\n",
      "3\n",
      "4\n",
      "5\n",
      "6\n",
      "7\n",
      "8\n",
      "9\n"
     ]
    }
   ],
   "source": [
    "for i in range(0, 10, 1):\n",
    "    print(i)"
   ]
  },
  {
   "cell_type": "code",
   "execution_count": 5,
   "metadata": {},
   "outputs": [
    {
     "name": "stdout",
     "output_type": "stream",
     "text": [
      "10\n",
      "9\n",
      "8\n",
      "7\n",
      "6\n",
      "5\n",
      "4\n",
      "3\n",
      "2\n",
      "1\n"
     ]
    }
   ],
   "source": [
    "for i in range(10, 0, -1):\n",
    "    print(i)"
   ]
  },
  {
   "cell_type": "code",
   "execution_count": 8,
   "metadata": {},
   "outputs": [
    {
     "name": "stdout",
     "output_type": "stream",
     "text": [
      " *   *   *   *   *  \n",
      "\n",
      " *   *   *   *  \n",
      "\n",
      " *   *   *  \n",
      "\n",
      " *   *  \n",
      "\n",
      " *  \n",
      "\n"
     ]
    }
   ],
   "source": [
    "for i in range(5, 0, -1):\n",
    "    for j in range(i, 0, -1):\n",
    "        print(\" * \", end=' ')\n",
    "    print(\"\\n\")"
   ]
  },
  {
   "cell_type": "code",
   "execution_count": 12,
   "metadata": {},
   "outputs": [
    {
     "name": "stdout",
     "output_type": "stream",
     "text": [
      " 1   2   3   4   5  \n",
      "\n",
      " 1   2   3   4  \n",
      "\n",
      " 1   2   3  \n",
      "\n",
      " 1   2  \n",
      "\n",
      " 1  \n",
      "\n"
     ]
    }
   ],
   "source": [
    "for i in range(5, 0, -1):\n",
    "    for j in range(i):\n",
    "        print(f\" {j+1} \", end=' ')\n",
    "    print(\"\\n\")"
   ]
  },
  {
   "cell_type": "code",
   "execution_count": 18,
   "metadata": {},
   "outputs": [
    {
     "name": "stdout",
     "output_type": "stream",
     "text": [
      " 10  9  8  7  6  5  4  3  2  1 \n",
      " 10  9  8  7  6  5  4  3  2 \n",
      " 10  9  8  7  6  5  4  3 \n",
      " 10  9  8  7  6  5  4 \n",
      " 10  9  8  7  6  5 \n",
      " 10  9  8  7  6 \n",
      " 10  9  8  7 \n",
      " 10  9  8 \n",
      " 10  9 \n",
      " 10 \n"
     ]
    }
   ],
   "source": [
    "n = 10\n",
    "for i in range(n, 0, -1):\n",
    "    for j in range(n, n - i, -1):\n",
    "        print(f\" {j} \", end='')\n",
    "    print()"
   ]
  },
  {
   "cell_type": "code",
   "execution_count": 19,
   "metadata": {},
   "outputs": [
    {
     "name": "stdout",
     "output_type": "stream",
     "text": [
      "    *\n",
      "   ***\n",
      "  *****\n",
      " *******\n",
      "*********\n"
     ]
    }
   ],
   "source": [
    "n = 5  # Adjust the value of 'n' to control the size of the pyramid\n",
    "\n",
    "for i in range(1, n + 1):\n",
    "    # Print leading spaces\n",
    "    for j in range(n - i):\n",
    "        print(\" \", end=\"\")\n",
    "    \n",
    "    # Print stars\n",
    "    for k in range(2 * i - 1):\n",
    "        print(\"*\", end=\"\")\n",
    "    \n",
    "    # Move to the next line for the next row\n",
    "    print()\n"
   ]
  },
  {
   "cell_type": "code",
   "execution_count": 29,
   "metadata": {},
   "outputs": [
    {
     "name": "stdout",
     "output_type": "stream",
     "text": [
      " 1   1   1   1   1  \n",
      " 2   2   2   2  \n",
      " 3   3   3  \n",
      " 2   2  \n",
      " 1  \n"
     ]
    }
   ],
   "source": [
    "counter = 1\n",
    "total_iter = 5\n",
    "current_iter = 0\n",
    "for i in range(n, 0, -1):\n",
    "    for j in range(i):\n",
    "        print(f\" {counter} \", end=' ')\n",
    "    if (i <= 3):\n",
    "        counter -= 1\n",
    "    else:\n",
    "        counter+=1\n",
    "    print()"
   ]
  },
  {
   "cell_type": "code",
   "execution_count": 31,
   "metadata": {},
   "outputs": [
    {
     "data": {
      "text/plain": [
       "2"
      ]
     },
     "execution_count": 31,
     "metadata": {},
     "output_type": "execute_result"
    }
   ],
   "source": [
    "5//2"
   ]
  },
  {
   "cell_type": "code",
   "execution_count": 48,
   "metadata": {},
   "outputs": [
    {
     "name": "stdout",
     "output_type": "stream",
     "text": [
      " 1   1   1   1   1  \n",
      "\n",
      " 2   2   2   2  \n",
      "\n",
      " 3   3   3  \n",
      "\n",
      " 2   2  \n",
      "\n",
      " 1  \n",
      "\n"
     ]
    }
   ],
   "source": [
    "total_iterations = 5  \n",
    "current_iteration = 0\n",
    "counter = 1\n",
    "for i in range(total_iterations, 0, -1):\n",
    "\n",
    "    for j in range(i):\n",
    "        print(f\" {counter} \", end=' ')\n",
    "    current_iteration += 1\n",
    "    print(\"\\n\")\n",
    "    if total_iterations%2==0:\n",
    "        if current_iteration >= total_iterations // 2:  \n",
    "            counter -= 1\n",
    "        else:\n",
    "            counter += 1\n",
    "    else:\n",
    "        if current_iteration >= (total_iterations // 2)+1:  \n",
    "            counter -= 1\n",
    "        else:\n",
    "            counter += 1\n"
   ]
  },
  {
   "cell_type": "code",
   "execution_count": 34,
   "metadata": {},
   "outputs": [
    {
     "data": {
      "text/plain": [
       "2"
      ]
     },
     "execution_count": 34,
     "metadata": {},
     "output_type": "execute_result"
    }
   ],
   "source": [
    "5//2"
   ]
  },
  {
   "cell_type": "code",
   "execution_count": 49,
   "metadata": {},
   "outputs": [],
   "source": [
    "l1 = ['a', 'b', 'c']\n",
    "l2 = [1,2,3]"
   ]
  },
  {
   "cell_type": "code",
   "execution_count": 51,
   "metadata": {},
   "outputs": [
    {
     "name": "stdout",
     "output_type": "stream",
     "text": [
      " a1   b2   c3  "
     ]
    }
   ],
   "source": [
    "# a1 b2 c3\n",
    "for i in range(len(l1)):\n",
    "    print(f\" {l1[i]}{l2[i]} \", end=' ')"
   ]
  },
  {
   "cell_type": "code",
   "execution_count": 52,
   "metadata": {},
   "outputs": [],
   "source": [
    "l1 = ['hello', 'how', 'you']\n",
    "l2 = ['world', 'are']\n",
    "# hello world how are you"
   ]
  },
  {
   "cell_type": "code",
   "execution_count": 64,
   "metadata": {},
   "outputs": [
    {
     "name": "stdout",
     "output_type": "stream",
     "text": [
      "hello world how are you   "
     ]
    }
   ],
   "source": [
    "l1 = ['hello', 'how', 'you']\n",
    "l2 = ['world', 'are']\n",
    "if len(l1) == len(l2):\n",
    "    for i in range(len(l1)):\n",
    "        print(f\"{l1[i]} {l2[i]}\", end=' ')\n",
    "elif len(l1) < len(l2):\n",
    "    l1.append(\" \")\n",
    "    for i in range(len(l1)):\n",
    "        print(f\"{l1[i]} {l2[i]}\", end=' ')\n",
    "elif len(l1) > len(l2):\n",
    "    l2.append(\" \")\n",
    "    for i in range(len(l1)):\n",
    "        print(f\"{l1[i]} {l2[i]}\", end=' ')"
   ]
  },
  {
   "cell_type": "code",
   "execution_count": 65,
   "metadata": {},
   "outputs": [
    {
     "data": {
      "text/plain": [
       "['world', 'are', ' ']"
      ]
     },
     "execution_count": 65,
     "metadata": {},
     "output_type": "execute_result"
    }
   ],
   "source": [
    "l2"
   ]
  },
  {
   "cell_type": "code",
   "execution_count": null,
   "metadata": {},
   "outputs": [],
   "source": []
  }
 ],
 "metadata": {
  "kernelspec": {
   "display_name": "Python 3",
   "language": "python",
   "name": "python3"
  },
  "language_info": {
   "codemirror_mode": {
    "name": "ipython",
    "version": 3
   },
   "file_extension": ".py",
   "mimetype": "text/x-python",
   "name": "python",
   "nbconvert_exporter": "python",
   "pygments_lexer": "ipython3",
   "version": "3.11.4"
  }
 },
 "nbformat": 4,
 "nbformat_minor": 2
}
