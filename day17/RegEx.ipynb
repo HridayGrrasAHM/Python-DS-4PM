{
 "cells": [
  {
   "cell_type": "code",
   "execution_count": 1,
   "metadata": {},
   "outputs": [
    {
     "name": "stdout",
     "output_type": "stream",
     "text": [
      "Hello world\n"
     ]
    }
   ],
   "source": [
    "print(\"Hello world\")"
   ]
  },
  {
   "cell_type": "markdown",
   "metadata": {},
   "source": [
    "# RegEx\n",
    "### regular expression\n",
    "Used to find/searching within a given text"
   ]
  },
  {
   "cell_type": "code",
   "execution_count": 3,
   "metadata": {},
   "outputs": [],
   "source": [
    "import re"
   ]
  },
  {
   "cell_type": "code",
   "execution_count": 4,
   "metadata": {},
   "outputs": [],
   "source": [
    "myString = \"The rain in India\""
   ]
  },
  {
   "cell_type": "code",
   "execution_count": 6,
   "metadata": {},
   "outputs": [],
   "source": [
    "re_search = re.search(\"India\", myString)"
   ]
  },
  {
   "cell_type": "code",
   "execution_count": 8,
   "metadata": {},
   "outputs": [
    {
     "name": "stdout",
     "output_type": "stream",
     "text": [
      "Yes, match found\n"
     ]
    }
   ],
   "source": [
    "if re_search:\n",
    "    print(\"Yes, match found\")\n",
    "else:\n",
    "    print(\"Match not found\")"
   ]
  },
  {
   "cell_type": "code",
   "execution_count": 9,
   "metadata": {},
   "outputs": [
    {
     "name": "stdout",
     "output_type": "stream",
     "text": [
      "Match not found\n"
     ]
    }
   ],
   "source": [
    "re_search = re.search(\"India1\", myString)\n",
    "if re_search:\n",
    "    print(\"Yes, match found\")\n",
    "else:\n",
    "    print(\"Match not found\")"
   ]
  },
  {
   "cell_type": "markdown",
   "metadata": {},
   "source": [
    "## Metacharacters\n",
    "<ul>\n",
    "    <li> [] -> \"[a-z]\" -> used to find characters within the given range</li>\n",
    "    <li> \\d -> \"\\d\" -> used to find digits </li>\n",
    "    <li> . -> \"a..c\" -> Used for searching in a sequence </li>\n",
    "    <li> ^ -> ^I -> Used to find if the sentance is starting with this letter </li>\n",
    "    <li> $ -> a$ -> Used to find if the sentance is ending with this letter </li>\n",
    "    <li> *, + -> h.*a -> Used to capture an entire string based on the start and end</li>\n",
    "    <li> {n} -> h.{n}a -> Used to find specified number of characters between the mentioned sequence </li>\n",
    "</ul>"
   ]
  },
  {
   "cell_type": "markdown",
   "metadata": {},
   "source": [
    "## Avaliable functions\n",
    "<ul>\n",
    "    <li> seacrh -> Returns a re object (match object) if there is a match found</li>\n",
    "    <li> findall -> Returns a list containing all matches </li>\n",
    "    <li> split -> Retuns a list where the string is split at each match </li>\n",
    "    <li> sub -> replaces one or many matches with a string </li>\n",
    "</ul>"
   ]
  },
  {
   "cell_type": "code",
   "execution_count": 11,
   "metadata": {},
   "outputs": [],
   "source": [
    "myString = \"The rain in India\""
   ]
  },
  {
   "cell_type": "code",
   "execution_count": 14,
   "metadata": {},
   "outputs": [],
   "source": [
    "match_findall = re.findall(\"[a-d]\", myString) "
   ]
  },
  {
   "cell_type": "code",
   "execution_count": 15,
   "metadata": {},
   "outputs": [
    {
     "data": {
      "text/plain": [
       "['a', 'd', 'a']"
      ]
     },
     "execution_count": 15,
     "metadata": {},
     "output_type": "execute_result"
    }
   ],
   "source": [
    "match_findall"
   ]
  },
  {
   "cell_type": "code",
   "execution_count": 36,
   "metadata": {},
   "outputs": [
    {
     "name": "stdout",
     "output_type": "stream",
     "text": [
      "['1', '0', '0', '1', '0', '0']\n"
     ]
    }
   ],
   "source": [
    "myString = \"I have 100 rupees 100\"\n",
    "match_digit = re.findall(\"\\d\", myString)\n",
    "print(match_digit)"
   ]
  },
  {
   "cell_type": "code",
   "execution_count": 38,
   "metadata": {},
   "outputs": [
    {
     "name": "stdout",
     "output_type": "stream",
     "text": [
      "['India', 'India'] 2\n"
     ]
    }
   ],
   "source": [
    "myString = \"The rain in India Ina India\"\n",
    "match_dot = re.findall(\"I...a\", myString)\n",
    "print(match_dot, len(match_dot))"
   ]
  },
  {
   "cell_type": "code",
   "execution_count": 28,
   "metadata": {},
   "outputs": [
    {
     "name": "stdout",
     "output_type": "stream",
     "text": [
      "Match found\n",
      "['India']\n"
     ]
    }
   ],
   "source": [
    "myString = \"India, it will rain\"\n",
    "match_cap = re.findall(\"^India\", myString)\n",
    "if match_cap:\n",
    "    print(\"Match found\")\n",
    "else:\n",
    "    print(\"Not found\")\n",
    "print(match_cap)"
   ]
  },
  {
   "cell_type": "code",
   "execution_count": 35,
   "metadata": {},
   "outputs": [
    {
     "name": "stdout",
     "output_type": "stream",
     "text": [
      "Sentance ends with India\n",
      "['India']\n"
     ]
    }
   ],
   "source": [
    "myString = \"The rain in India\"\n",
    "match_dollar = re.findall(\"India$\", myString)\n",
    "if match_dollar:\n",
    "    print(\"Sentance ends with India\")\n",
    "else:\n",
    "    print(\"Sentance doesn't ends with India\")\n",
    "print(match_dollar)"
   ]
  },
  {
   "cell_type": "code",
   "execution_count": 47,
   "metadata": {},
   "outputs": [
    {
     "name": "stdout",
     "output_type": "stream",
     "text": [
      "['India Ina India Ina rain n a']\n"
     ]
    }
   ],
   "source": [
    "myString = \"The rain in India Ina India Ina rain n a\"\n",
    "match_star = re.findall(\"I.*a\", myString)\n",
    "print(match_star)"
   ]
  },
  {
   "cell_type": "code",
   "execution_count": 45,
   "metadata": {},
   "outputs": [
    {
     "name": "stdout",
     "output_type": "stream",
     "text": [
      "['I The rain in India Ina India Ina rain n a']\n"
     ]
    }
   ],
   "source": [
    "myString = \"I The rain in India Ina India Ina rain n a\"\n",
    "match_plus = re.findall(\"I.+a\", myString)\n",
    "print(match_plus)"
   ]
  },
  {
   "cell_type": "code",
   "execution_count": 51,
   "metadata": {},
   "outputs": [
    {
     "name": "stdout",
     "output_type": "stream",
     "text": [
      "['India', 'India']\n"
     ]
    }
   ],
   "source": [
    "myString = \"The rain in India Ina India Ina rain n a\"\n",
    "match_curl = re.findall(\"I.{3}a\", myString)\n",
    "print(match_curl)"
   ]
  },
  {
   "cell_type": "code",
   "execution_count": 57,
   "metadata": {},
   "outputs": [
    {
     "name": "stdout",
     "output_type": "stream",
     "text": [
      "['The rain in India.', 'Today is a fine day']\n"
     ]
    }
   ],
   "source": [
    "myString = \"The rain in India.\\nToday is a fine day\"\n",
    "split = re.split(\"\\n\", myString)\n",
    "print(split)"
   ]
  },
  {
   "cell_type": "code",
   "execution_count": 59,
   "metadata": {},
   "outputs": [
    {
     "name": "stdout",
     "output_type": "stream",
     "text": [
      "['The rain in India.', 'Today is a fine day.\\n How are you Today?']\n"
     ]
    }
   ],
   "source": [
    "myString = \"The rain in India.\\nToday is a fine day.\\n How are you Today?\"\n",
    "split = re.split(\"\\n\", myString, 1)\n",
    "print(split)"
   ]
  },
  {
   "cell_type": "code",
   "execution_count": 62,
   "metadata": {},
   "outputs": [
    {
     "name": "stdout",
     "output_type": "stream",
     "text": [
      "The rain in Bharat.\n",
      "Today is a fine day\n"
     ]
    }
   ],
   "source": [
    "myString = \"The rain in India.\\nToday is a fine day\"\n",
    "sub = re.sub(\"India\",\"Bharat\",myString)\n",
    "print(sub)"
   ]
  },
  {
   "cell_type": "code",
   "execution_count": 64,
   "metadata": {},
   "outputs": [
    {
     "name": "stdout",
     "output_type": "stream",
     "text": [
      "The rain in Bharat.\n",
      "Today is a fine day in India\n"
     ]
    }
   ],
   "source": [
    "myString = \"The rain in India.\\nToday is a fine day in India\"\n",
    "sub = re.sub(\"India\", \"Bharat\", myString, 1)\n",
    "print(sub)"
   ]
  },
  {
   "cell_type": "code",
   "execution_count": 65,
   "metadata": {},
   "outputs": [],
   "source": [
    "url = \"https://api.weatherapi.com/v1/current.json?key=75f11d524d2749e4beb110806231909&q=London\""
   ]
  },
  {
   "cell_type": "code",
   "execution_count": 80,
   "metadata": {},
   "outputs": [],
   "source": [
    "key1 = re.split(\"=\", url)[1]"
   ]
  },
  {
   "cell_type": "code",
   "execution_count": 81,
   "metadata": {},
   "outputs": [],
   "source": [
    "key2 = re.findall(\"=.*=\", url)[0][1:-1]"
   ]
  },
  {
   "cell_type": "code",
   "execution_count": 82,
   "metadata": {},
   "outputs": [
    {
     "data": {
      "text/plain": [
       "('75f11d524d2749e4beb110806231909&q', '75f11d524d2749e4beb110806231909&q')"
      ]
     },
     "execution_count": 82,
     "metadata": {},
     "output_type": "execute_result"
    }
   ],
   "source": [
    "key1, key2"
   ]
  },
  {
   "cell_type": "code",
   "execution_count": 87,
   "metadata": {},
   "outputs": [],
   "source": [
    "location1 = re.split(\"=\", url)[2]"
   ]
  },
  {
   "cell_type": "code",
   "execution_count": 93,
   "metadata": {},
   "outputs": [],
   "source": [
    "location2 = re.findall(\"q=.*\", url)[0][2:]"
   ]
  },
  {
   "cell_type": "code",
   "execution_count": 89,
   "metadata": {},
   "outputs": [
    {
     "data": {
      "text/plain": [
       "'London'"
      ]
     },
     "execution_count": 89,
     "metadata": {},
     "output_type": "execute_result"
    }
   ],
   "source": [
    "location1"
   ]
  },
  {
   "cell_type": "code",
   "execution_count": 94,
   "metadata": {},
   "outputs": [
    {
     "data": {
      "text/plain": [
       "'London'"
      ]
     },
     "execution_count": 94,
     "metadata": {},
     "output_type": "execute_result"
    }
   ],
   "source": [
    "location2"
   ]
  },
  {
   "cell_type": "code",
   "execution_count": 97,
   "metadata": {},
   "outputs": [],
   "source": [
    "weather1 = re.split(\"/\", url)[2]"
   ]
  },
  {
   "cell_type": "code",
   "execution_count": 100,
   "metadata": {},
   "outputs": [
    {
     "data": {
      "text/plain": [
       "'api.weatherapi.com'"
      ]
     },
     "execution_count": 100,
     "metadata": {},
     "output_type": "execute_result"
    }
   ],
   "source": [
    "re.findall(\"/.*/\", url)[0][2:-4]"
   ]
  },
  {
   "cell_type": "code",
   "execution_count": null,
   "metadata": {},
   "outputs": [],
   "source": []
  }
 ],
 "metadata": {
  "kernelspec": {
   "display_name": "Python 3",
   "language": "python",
   "name": "python3"
  },
  "language_info": {
   "codemirror_mode": {
    "name": "ipython",
    "version": 3
   },
   "file_extension": ".py",
   "mimetype": "text/x-python",
   "name": "python",
   "nbconvert_exporter": "python",
   "pygments_lexer": "ipython3",
   "version": "3.11.4"
  }
 },
 "nbformat": 4,
 "nbformat_minor": 2
}
