{
 "cells": [
  {
   "cell_type": "code",
   "execution_count": 3,
   "metadata": {},
   "outputs": [
    {
     "name": "stdout",
     "output_type": "stream",
     "text": [
      "Hello world\n"
     ]
    }
   ],
   "source": [
    "print(\"Hello world\")"
   ]
  },
  {
   "cell_type": "markdown",
   "metadata": {},
   "source": [
    "# Inheritance"
   ]
  },
  {
   "cell_type": "code",
   "execution_count": 4,
   "metadata": {},
   "outputs": [],
   "source": [
    "class Parent:\n",
    "    def __init__(self, fname, lname):\n",
    "        self.fname = fname\n",
    "        self.lname = lname\n",
    "    \n",
    "    def __str__(self):\n",
    "        return f\"{self.fname} {self.lname}\""
   ]
  },
  {
   "cell_type": "code",
   "execution_count": 5,
   "metadata": {},
   "outputs": [
    {
     "name": "stdout",
     "output_type": "stream",
     "text": [
      "hriday goswami\n"
     ]
    }
   ],
   "source": [
    "x = Parent(\"hriday\", 'goswami')\n",
    "print(x)"
   ]
  },
  {
   "cell_type": "code",
   "execution_count": 9,
   "metadata": {},
   "outputs": [],
   "source": [
    "class Parent:\n",
    "    def __init__(self, fname, lname):\n",
    "        self.fname = fname\n",
    "        self.lname = lname\n",
    "    \n",
    "    def __str__(self):\n",
    "        return f\"{self.fname}, {self.lname}\"\n",
    "\n",
    "class Child(Parent):\n",
    "    def __init__(self, fname, lname):\n",
    "        Parent.__init__(self, fname, lname)"
   ]
  },
  {
   "cell_type": "code",
   "execution_count": 10,
   "metadata": {},
   "outputs": [],
   "source": [
    "x = Child(\"Hriday\", 'Goswami')"
   ]
  },
  {
   "cell_type": "code",
   "execution_count": 12,
   "metadata": {},
   "outputs": [
    {
     "name": "stdout",
     "output_type": "stream",
     "text": [
      "Hriday, Goswami\n"
     ]
    }
   ],
   "source": [
    "print(x)"
   ]
  },
  {
   "cell_type": "code",
   "execution_count": 39,
   "metadata": {},
   "outputs": [],
   "source": [
    "class calculation:\n",
    "    def __init__(self, a, b, op):\n",
    "        self.a = a \n",
    "        self.b = b\n",
    "        self.op = op\n",
    "\n",
    "    def add(self):\n",
    "        return self.a+self.b\n",
    "\n",
    "    def minus(self):\n",
    "        return self.a-self.b\n",
    "\n",
    "    def mul(self):\n",
    "        return self.a*self.b\n",
    "\n",
    "    def div(self):\n",
    "        return self.a/self.b\n",
    "\n",
    "class calculator(calculation):\n",
    "    def __init__(self, a, b, op):\n",
    "        calculation.__init__(self, a, b, op)\n",
    "    \n",
    "    def cal(self):\n",
    "        if(self.op == \"+\"):\n",
    "            return self.add()\n",
    "        elif(self.op == '-'):\n",
    "            return self.minus()\n",
    "        elif(self.op == '*'):\n",
    "            return self.mul()\n",
    "        elif(self.op == '/'):\n",
    "            return self.div()\n",
    "        else:\n",
    "            return f\"Invalid {self.a} {self.b} {self.op}\""
   ]
  },
  {
   "cell_type": "code",
   "execution_count": 42,
   "metadata": {},
   "outputs": [],
   "source": [
    "ca = calculator(int(input(\"Enter first number\")), int(input(\"Enter second number\")), input(\"Enter operator\"))"
   ]
  },
  {
   "cell_type": "code",
   "execution_count": 43,
   "metadata": {},
   "outputs": [
    {
     "name": "stdout",
     "output_type": "stream",
     "text": [
      "Invalid 100 -100 .\n"
     ]
    }
   ],
   "source": [
    "print(ca.cal())"
   ]
  },
  {
   "cell_type": "code",
   "execution_count": 44,
   "metadata": {},
   "outputs": [
    {
     "data": {
      "text/plain": [
       "-10"
      ]
     },
     "execution_count": 44,
     "metadata": {},
     "output_type": "execute_result"
    }
   ],
   "source": [
    "calculator(10, 20, '-').cal()"
   ]
  },
  {
   "cell_type": "code",
   "execution_count": null,
   "metadata": {},
   "outputs": [],
   "source": []
  }
 ],
 "metadata": {
  "kernelspec": {
   "display_name": "Python 3",
   "language": "python",
   "name": "python3"
  },
  "language_info": {
   "codemirror_mode": {
    "name": "ipython",
    "version": 3
   },
   "file_extension": ".py",
   "mimetype": "text/x-python",
   "name": "python",
   "nbconvert_exporter": "python",
   "pygments_lexer": "ipython3",
   "version": "3.11.4"
  }
 },
 "nbformat": 4,
 "nbformat_minor": 2
}
