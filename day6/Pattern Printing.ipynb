{
 "cells": [
  {
   "cell_type": "markdown",
   "metadata": {},
   "source": [
    "# Pattern printing"
   ]
  },
  {
   "cell_type": "code",
   "execution_count": 2,
   "metadata": {},
   "outputs": [
    {
     "name": "stdout",
     "output_type": "stream",
     "text": [
      "Hello world\n"
     ]
    }
   ],
   "source": [
    "print(\"Hello world\")"
   ]
  },
  {
   "cell_type": "code",
   "execution_count": 3,
   "metadata": {},
   "outputs": [],
   "source": [
    "l = [1,2,3,4,5,6]"
   ]
  },
  {
   "cell_type": "code",
   "execution_count": 5,
   "metadata": {},
   "outputs": [
    {
     "data": {
      "text/plain": [
       "1"
      ]
     },
     "execution_count": 5,
     "metadata": {},
     "output_type": "execute_result"
    }
   ],
   "source": [
    "l[0]"
   ]
  },
  {
   "cell_type": "code",
   "execution_count": 6,
   "metadata": {},
   "outputs": [],
   "source": [
    "l2d = [\n",
    "    [1,2,3,4], \n",
    "    [5,6,7,8]\n",
    "    ]"
   ]
  },
  {
   "cell_type": "code",
   "execution_count": 8,
   "metadata": {},
   "outputs": [
    {
     "data": {
      "text/plain": [
       "[1, 2, 3, 4]"
      ]
     },
     "execution_count": 8,
     "metadata": {},
     "output_type": "execute_result"
    }
   ],
   "source": [
    "l2d[0]"
   ]
  },
  {
   "cell_type": "code",
   "execution_count": 19,
   "metadata": {},
   "outputs": [
    {
     "data": {
      "text/plain": [
       "5"
      ]
     },
     "execution_count": 19,
     "metadata": {},
     "output_type": "execute_result"
    }
   ],
   "source": [
    "l2d[1][0]"
   ]
  },
  {
   "cell_type": "code",
   "execution_count": 24,
   "metadata": {},
   "outputs": [],
   "source": [
    "l3d = [\n",
    "        [\n",
    "            [1,2,3,4,5], \n",
    "            [6,7,8,9,10]\n",
    "        ], \n",
    "        [11, 12, 13, 14, 15]\n",
    "    ]"
   ]
  },
  {
   "cell_type": "code",
   "execution_count": 27,
   "metadata": {},
   "outputs": [
    {
     "data": {
      "text/plain": [
       "15"
      ]
     },
     "execution_count": 27,
     "metadata": {},
     "output_type": "execute_result"
    }
   ],
   "source": [
    "l3d[1][-1]"
   ]
  },
  {
   "cell_type": "code",
   "execution_count": 15,
   "metadata": {},
   "outputs": [
    {
     "name": "stdout",
     "output_type": "stream",
     "text": [
      "1\n",
      "2\n",
      "3\n",
      "4\n",
      "5\n",
      "6\n"
     ]
    }
   ],
   "source": [
    "for i in l:\n",
    "    print(i)"
   ]
  },
  {
   "cell_type": "code",
   "execution_count": 31,
   "metadata": {},
   "outputs": [
    {
     "name": "stdout",
     "output_type": "stream",
     "text": [
      "1[1, 2, 3, 4] 2[1, 2, 3, 4] 3[1, 2, 3, 4] 4[1, 2, 3, 4] 5[5, 6, 7, 8] 6[5, 6, 7, 8] 7[5, 6, 7, 8] 8[5, 6, 7, 8] "
     ]
    }
   ],
   "source": [
    "# nested loops\n",
    "for i in l2d:\n",
    "    for j in i:\n",
    "        print(j, end=f'{i} ')"
   ]
  },
  {
   "cell_type": "code",
   "execution_count": 35,
   "metadata": {},
   "outputs": [
    {
     "name": "stdout",
     "output_type": "stream",
     "text": [
      " *   *   *   *   *   *   *   *   *   *  \n",
      "\n",
      " *   *   *   *   *   *   *   *   *   *  \n",
      "\n",
      " *   *   *   *   *   *   *   *   *   *  \n",
      "\n",
      " *   *   *   *   *   *   *   *   *   *  \n",
      "\n",
      " *   *   *   *   *   *   *   *   *   *  \n",
      "\n",
      " *   *   *   *   *   *   *   *   *   *  \n",
      "\n",
      " *   *   *   *   *   *   *   *   *   *  \n",
      "\n",
      " *   *   *   *   *   *   *   *   *   *  \n",
      "\n",
      " *   *   *   *   *   *   *   *   *   *  \n",
      "\n",
      " *   *   *   *   *   *   *   *   *   *  \n",
      "\n"
     ]
    }
   ],
   "source": [
    "n = 10\n",
    "for i in range(n):   # rows\n",
    "    for j in range(n): #cols\n",
    "        print(\" * \", end=' ')\n",
    "    print(\"\\n\")"
   ]
  },
  {
   "cell_type": "code",
   "execution_count": 49,
   "metadata": {},
   "outputs": [
    {
     "name": "stdout",
     "output_type": "stream",
     "text": [
      " *   *   *   *   *  \n",
      "\n",
      " *               *  \n",
      "\n",
      " *               *  \n",
      "\n",
      " *               *  \n",
      "\n",
      " *   *   *   *   *  \n",
      "\n"
     ]
    }
   ],
   "source": [
    "n = 5\n",
    "for i in range(n):   # rows\n",
    "    for j in range(n): #cols\n",
    "        if (i == 0 or j == 0 or i == n-1 or j == n-1):\n",
    "            print(\" * \", end=' ')\n",
    "        else:\n",
    "            print(\"   \", end=' ')\n",
    "    print(\"\\n\")"
   ]
  },
  {
   "cell_type": "code",
   "execution_count": 42,
   "metadata": {},
   "outputs": [
    {
     "name": "stdout",
     "output_type": "stream",
     "text": [
      "0\n",
      "1\n",
      "2\n",
      "3\n",
      "4\n"
     ]
    }
   ],
   "source": [
    "for i in range(5):\n",
    "    print(i)"
   ]
  },
  {
   "cell_type": "code",
   "execution_count": 57,
   "metadata": {},
   "outputs": [
    {
     "name": "stdout",
     "output_type": "stream",
     "text": [
      " *   *   *   *   *   *   *   *   *   *  \n",
      "\n",
      " *   *                           *   *  \n",
      "\n",
      " *       *                   *       *  \n",
      "\n",
      " *           *           *           *  \n",
      "\n",
      " *               *   *               *  \n",
      "\n",
      " *               *   *               *  \n",
      "\n",
      " *           *           *           *  \n",
      "\n",
      " *       *                   *       *  \n",
      "\n",
      " *   *                           *   *  \n",
      "\n",
      " *   *   *   *   *   *   *   *   *   *  \n",
      "\n"
     ]
    }
   ],
   "source": [
    "n = 10\n",
    "for i in range(n):   # rows\n",
    "    for j in range(n): #cols\n",
    "        if (i == 0 or j == 0 or i == n-1 or j == n-1 or i == j or i == (n-1)-j):\n",
    "            print(\" * \", end=' ')\n",
    "        else:\n",
    "            print(\"   \", end=' ')\n",
    "    print(\"\\n\")"
   ]
  },
  {
   "cell_type": "code",
   "execution_count": 60,
   "metadata": {},
   "outputs": [
    {
     "name": "stdout",
     "output_type": "stream",
     "text": [
      " *                                      \n",
      "\n",
      " *   *                                  \n",
      "\n",
      " *       *                              \n",
      "\n",
      " *           *                          \n",
      "\n",
      " *               *                      \n",
      "\n",
      " *                   *                  \n",
      "\n",
      " *                       *              \n",
      "\n",
      " *                           *          \n",
      "\n",
      " *                               *      \n",
      "\n",
      " *   *   *   *   *   *   *   *   *   *  \n",
      "\n"
     ]
    }
   ],
   "source": [
    "n = 10\n",
    "for i in range(n):   # rows\n",
    "    for j in range(n): #cols\n",
    "        if (i == n-1 or j == 0 or i == j):\n",
    "            print(\" * \", end=' ')\n",
    "        else:\n",
    "            print(\"   \", end=' ')\n",
    "    print(\"\\n\")"
   ]
  },
  {
   "cell_type": "code",
   "execution_count": 62,
   "metadata": {},
   "outputs": [
    {
     "name": "stdout",
     "output_type": "stream",
     "text": [
      "                                     *  \n",
      "\n",
      "                                 *   *  \n",
      "\n",
      "                             *       *  \n",
      "\n",
      "                         *           *  \n",
      "\n",
      "                     *               *  \n",
      "\n",
      "                 *                   *  \n",
      "\n",
      "             *                       *  \n",
      "\n",
      "         *                           *  \n",
      "\n",
      "     *                               *  \n",
      "\n",
      " *   *   *   *   *   *   *   *   *   *  \n",
      "\n"
     ]
    }
   ],
   "source": [
    "n = 10\n",
    "for i in range(n):   # rows\n",
    "    for j in range(n): #cols\n",
    "        if (i == n-1 or j == n-1  or i == (n-1)-j):\n",
    "            print(\" * \", end=' ')\n",
    "        else:\n",
    "            print(\"   \", end=' ')\n",
    "    print(\"\\n\")"
   ]
  },
  {
   "cell_type": "code",
   "execution_count": 65,
   "metadata": {},
   "outputs": [
    {
     "name": "stdout",
     "output_type": "stream",
     "text": [
      " *   *   *   *   *   *   *   *   *   *  \n",
      "\n",
      " *                               *      \n",
      "\n",
      " *                           *          \n",
      "\n",
      " *                       *              \n",
      "\n",
      " *                   *                  \n",
      "\n",
      " *               *                      \n",
      "\n",
      " *           *                          \n",
      "\n",
      " *       *                              \n",
      "\n",
      " *   *                                  \n",
      "\n",
      " *                                      \n",
      "\n"
     ]
    }
   ],
   "source": [
    "n = 10\n",
    "for i in range(n):   # rows\n",
    "    for j in range(n): #cols\n",
    "        if (i == 0 or j == 0 or i == (n-1)-j ):\n",
    "            print(\" * \", end=' ')\n",
    "        else:\n",
    "            print(\"   \", end=' ')\n",
    "    print(\"\\n\")"
   ]
  },
  {
   "cell_type": "code",
   "execution_count": 67,
   "metadata": {},
   "outputs": [
    {
     "name": "stdout",
     "output_type": "stream",
     "text": [
      " *   *   *   *   *   *   *   *   *   *  \n",
      "\n",
      "     *                               *  \n",
      "\n",
      "         *                           *  \n",
      "\n",
      "             *                       *  \n",
      "\n",
      "                 *                   *  \n",
      "\n",
      "                     *               *  \n",
      "\n",
      "                         *           *  \n",
      "\n",
      "                             *       *  \n",
      "\n",
      "                                 *   *  \n",
      "\n",
      "                                     *  \n",
      "\n"
     ]
    }
   ],
   "source": [
    "n = 10\n",
    "for i in range(n):   # rows\n",
    "    for j in range(n): #cols\n",
    "        if (i == 0 or j == n-1 or i == j ):\n",
    "            print(\" * \", end=' ')\n",
    "        else:\n",
    "            print(\"   \", end=' ')\n",
    "    print(\"\\n\")"
   ]
  },
  {
   "cell_type": "code",
   "execution_count": 68,
   "metadata": {},
   "outputs": [],
   "source": [
    "patternList = [\n",
    "    [1,2,3],\n",
    "    [4,5,6],\n",
    "    [7,8,9]\n",
    "]"
   ]
  },
  {
   "cell_type": "code",
   "execution_count": 83,
   "metadata": {},
   "outputs": [
    {
     "name": "stdout",
     "output_type": "stream",
     "text": [
      "25\n"
     ]
    }
   ],
   "source": [
    "dig = 0\n",
    "digOppo = 0\n",
    "for i in range(len(patternList)):\n",
    "    for j in range(len(patternList)):\n",
    "        if(i == j or i == (len(patternList)-1)-j):\n",
    "            # print(patternList[i][j])\n",
    "            dig = dig + patternList[i][j]\n",
    "        # elif(i == (len(patternList)-1)-j):\n",
    "            # print(patternList[i][j])\n",
    "            # digOppo = digOppo + patternList[i][j]\n",
    "\n",
    "print(dig)"
   ]
  },
  {
   "cell_type": "code",
   "execution_count": null,
   "metadata": {},
   "outputs": [],
   "source": []
  }
 ],
 "metadata": {
  "kernelspec": {
   "display_name": "base",
   "language": "python",
   "name": "python3"
  },
  "language_info": {
   "codemirror_mode": {
    "name": "ipython",
    "version": 3
   },
   "file_extension": ".py",
   "mimetype": "text/x-python",
   "name": "python",
   "nbconvert_exporter": "python",
   "pygments_lexer": "ipython3",
   "version": "3.10.9"
  }
 },
 "nbformat": 4,
 "nbformat_minor": 2
}
