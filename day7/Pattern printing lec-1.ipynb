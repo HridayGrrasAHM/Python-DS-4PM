{
 "cells": [
  {
   "cell_type": "code",
   "execution_count": 1,
   "metadata": {},
   "outputs": [
    {
     "name": "stdout",
     "output_type": "stream",
     "text": [
      "Hello world\n"
     ]
    }
   ],
   "source": [
    "print(\"Hello world\")"
   ]
  },
  {
   "cell_type": "code",
   "execution_count": 4,
   "metadata": {},
   "outputs": [],
   "source": [
    "l = [\n",
    "    [i for i in range(1, 16)],\n",
    "     [i for i in range(1, 16)],\n",
    "     [i for i in range(1, 16)],\n",
    "     [i for i in range(1, 16)],\n",
    "     [i for i in range(1, 16)],\n",
    "     [i for i in range(1, 16)],\n",
    "     [i for i in range(1, 16)],\n",
    "     [i for i in range(1, 16)],\n",
    "     [i for i in range(1, 16)],\n",
    "     [i for i in range(1, 16)],\n",
    "     [i for i in range(1, 16)],\n",
    "     [i for i in range(1, 16)],\n",
    "     [i for i in range(1, 16)],\n",
    "     [i for i in range(1, 16)],\n",
    "     [i for i in range(1, 16)],\n",
    "     ]"
   ]
  },
  {
   "cell_type": "code",
   "execution_count": 5,
   "metadata": {},
   "outputs": [
    {
     "data": {
      "text/plain": [
       "[[1, 2, 3, 4, 5, 6, 7, 8, 9, 10, 11, 12, 13, 14, 15],\n",
       " [1, 2, 3, 4, 5, 6, 7, 8, 9, 10, 11, 12, 13, 14, 15],\n",
       " [1, 2, 3, 4, 5, 6, 7, 8, 9, 10, 11, 12, 13, 14, 15],\n",
       " [1, 2, 3, 4, 5, 6, 7, 8, 9, 10, 11, 12, 13, 14, 15],\n",
       " [1, 2, 3, 4, 5, 6, 7, 8, 9, 10, 11, 12, 13, 14, 15],\n",
       " [1, 2, 3, 4, 5, 6, 7, 8, 9, 10, 11, 12, 13, 14, 15],\n",
       " [1, 2, 3, 4, 5, 6, 7, 8, 9, 10, 11, 12, 13, 14, 15],\n",
       " [1, 2, 3, 4, 5, 6, 7, 8, 9, 10, 11, 12, 13, 14, 15],\n",
       " [1, 2, 3, 4, 5, 6, 7, 8, 9, 10, 11, 12, 13, 14, 15],\n",
       " [1, 2, 3, 4, 5, 6, 7, 8, 9, 10, 11, 12, 13, 14, 15],\n",
       " [1, 2, 3, 4, 5, 6, 7, 8, 9, 10, 11, 12, 13, 14, 15],\n",
       " [1, 2, 3, 4, 5, 6, 7, 8, 9, 10, 11, 12, 13, 14, 15],\n",
       " [1, 2, 3, 4, 5, 6, 7, 8, 9, 10, 11, 12, 13, 14, 15],\n",
       " [1, 2, 3, 4, 5, 6, 7, 8, 9, 10, 11, 12, 13, 14, 15],\n",
       " [1, 2, 3, 4, 5, 6, 7, 8, 9, 10, 11, 12, 13, 14, 15]]"
      ]
     },
     "execution_count": 5,
     "metadata": {},
     "output_type": "execute_result"
    }
   ],
   "source": [
    "l"
   ]
  },
  {
   "cell_type": "code",
   "execution_count": 18,
   "metadata": {},
   "outputs": [
    {
     "name": "stdout",
     "output_type": "stream",
     "text": [
      "480\n"
     ]
    }
   ],
   "source": [
    "add = 0\n",
    "for i in range(len(l)):\n",
    "    for j in range(len(l)):\n",
    "        if(i == 0 or j == 0 or i==len(l)-1 or j==len(l)-1):\n",
    "            # print(l[i][j], end=' ')\n",
    "            # add += l[i][j]\n",
    "            add = add + l[i][j] \n",
    "    # print(\"\\n\")\n",
    "\n",
    "print(add+2+30)"
   ]
  },
  {
   "cell_type": "code",
   "execution_count": 17,
   "metadata": {},
   "outputs": [
    {
     "name": "stdout",
     "output_type": "stream",
     "text": [
      "i=0 1 i=0 2 i=0 3 i=0 4 i=0 5 i=0 6 i=0 7 i=0 8 i=0 9 i=0 10 i=0 11 i=0 12 i=0 13 i=0 14 i=0 15 \n",
      "\n",
      "j=0 1                                                     \n",
      "\n",
      "j=0 1                                                     \n",
      "\n",
      "j=0 1                                                     \n",
      "\n",
      "j=0 1                                                     \n",
      "\n",
      "j=0 1                                                     \n",
      "\n",
      "j=0 1                                                     \n",
      "\n",
      "j=0 1                                                     \n",
      "\n",
      "j=0 1                                                     \n",
      "\n",
      "j=0 1                                                     \n",
      "\n",
      "j=0 1                                                     \n",
      "\n",
      "j=0 1                                                     \n",
      "\n",
      "j=0 1                                                     \n",
      "\n",
      "j=0 1                                                     \n",
      "\n",
      "j=0 1 \n",
      "\n"
     ]
    }
   ],
   "source": [
    "for i in range(len(l)):\n",
    "    for j in range(len(l)):\n",
    "        if(i == 0):\n",
    "            print(\"i=0\", l[i][j], end=' ')\n",
    "            pass\n",
    "        elif(j == 0):\n",
    "            print(\"j=0\", l[i][j], end=' ')\n",
    "        elif(i == len(l)-1):\n",
    "            # print(\"i=n-1\", l[i][j], end=' ')\n",
    "            pass\n",
    "        elif(j == len(l)-1):\n",
    "            # print(\"j=n-1\", l[i][j], end=' ')\n",
    "            pass\n",
    "        else:\n",
    "            print(\"   \", end=' ')\n",
    "    print(\"\\n\")"
   ]
  },
  {
   "cell_type": "code",
   "execution_count": 19,
   "metadata": {},
   "outputs": [],
   "source": [
    "from random import randint"
   ]
  },
  {
   "cell_type": "code",
   "execution_count": 26,
   "metadata": {},
   "outputs": [
    {
     "data": {
      "text/plain": [
       "1"
      ]
     },
     "execution_count": 26,
     "metadata": {},
     "output_type": "execute_result"
    }
   ],
   "source": [
    "randint(0, 10)"
   ]
  },
  {
   "cell_type": "code",
   "execution_count": 27,
   "metadata": {},
   "outputs": [
    {
     "name": "stdout",
     "output_type": "stream",
     "text": [
      "8\n",
      "10\n",
      "2\n",
      "5\n",
      "10\n",
      "10\n",
      "7\n",
      "2\n",
      "6\n",
      "4\n"
     ]
    }
   ],
   "source": [
    "for i in range(10):\n",
    "    print(randint(0, 10))"
   ]
  },
  {
   "cell_type": "code",
   "execution_count": 28,
   "metadata": {},
   "outputs": [],
   "source": [
    "l = [\n",
    "     [randint(0, 20) for i in range(1, 16)], \n",
    "     [randint(0, 20) for i in range(1, 16)], \n",
    "     [randint(0, 20) for i in range(1, 16)], \n",
    "     [randint(0, 20) for i in range(1, 16)], \n",
    "     [randint(0, 20) for i in range(1, 16)], \n",
    "     [randint(0, 20) for i in range(1, 16)], \n",
    "     [randint(0, 20) for i in range(1, 16)], \n",
    "     [randint(0, 20) for i in range(1, 16)], \n",
    "     [randint(0, 20) for i in range(1, 16)], \n",
    "     [randint(0, 20) for i in range(1, 16)], \n",
    "     [randint(0, 20) for i in range(1, 16)], \n",
    "     [randint(0, 20) for i in range(1, 16)], \n",
    "     [randint(0, 20) for i in range(1, 16)], \n",
    "     [randint(0, 20) for i in range(1, 16)], \n",
    "     [randint(0, 20) for i in range(1, 16)], \n",
    "     ]"
   ]
  },
  {
   "cell_type": "code",
   "execution_count": 29,
   "metadata": {},
   "outputs": [
    {
     "data": {
      "text/plain": [
       "[[6, 19, 16, 6, 18, 13, 0, 7, 0, 20, 20, 2, 5, 20, 1],\n",
       " [17, 20, 3, 18, 8, 4, 20, 5, 7, 16, 6, 15, 6, 9, 15],\n",
       " [15, 19, 14, 5, 4, 17, 15, 15, 1, 14, 18, 13, 17, 3, 11],\n",
       " [4, 13, 9, 8, 5, 0, 2, 14, 8, 18, 17, 8, 3, 10, 6],\n",
       " [6, 1, 17, 9, 16, 10, 16, 16, 1, 14, 16, 5, 13, 14, 16],\n",
       " [20, 2, 13, 15, 18, 10, 18, 13, 6, 5, 19, 16, 1, 5, 14],\n",
       " [16, 12, 19, 15, 13, 1, 17, 16, 19, 7, 1, 11, 20, 5, 15],\n",
       " [2, 15, 20, 7, 10, 11, 19, 2, 20, 2, 2, 12, 12, 5, 13],\n",
       " [6, 15, 8, 9, 3, 2, 13, 10, 20, 20, 16, 12, 18, 9, 11],\n",
       " [4, 20, 3, 20, 6, 6, 17, 8, 5, 3, 4, 5, 19, 6, 11],\n",
       " [8, 12, 14, 5, 10, 12, 1, 12, 0, 3, 13, 16, 18, 6, 11],\n",
       " [14, 2, 17, 17, 16, 2, 1, 6, 15, 16, 2, 0, 0, 13, 15],\n",
       " [12, 5, 10, 0, 20, 16, 1, 5, 14, 5, 3, 10, 7, 5, 2],\n",
       " [2, 12, 20, 16, 17, 4, 8, 9, 8, 2, 16, 17, 0, 14, 1],\n",
       " [13, 10, 10, 17, 7, 8, 7, 3, 15, 7, 1, 20, 0, 2, 9]]"
      ]
     },
     "execution_count": 29,
     "metadata": {},
     "output_type": "execute_result"
    }
   ],
   "source": [
    "l"
   ]
  },
  {
   "cell_type": "code",
   "execution_count": 31,
   "metadata": {},
   "outputs": [
    {
     "name": "stdout",
     "output_type": "stream",
     "text": [
      " *  \n",
      "\n",
      " *   *  \n",
      "\n",
      " *   *   *  \n",
      "\n",
      " *   *   *   *  \n",
      "\n",
      " *   *   *   *   *  \n",
      "\n"
     ]
    }
   ],
   "source": [
    "for i in range(5):\n",
    "    for j in range(i+1):\n",
    "        print(\" * \", end=' ')\n",
    "    print(\"\\n\")"
   ]
  },
  {
   "cell_type": "code",
   "execution_count": 32,
   "metadata": {},
   "outputs": [
    {
     "name": "stdout",
     "output_type": "stream",
     "text": [
      " 1  \n",
      "\n",
      " 2   3  \n",
      "\n",
      " 4   5   6  \n",
      "\n",
      " 7   8   9   10  \n",
      "\n",
      " 11   12   13   14   15  \n",
      "\n"
     ]
    }
   ],
   "source": [
    "counter = 1\n",
    "for i in range(5):\n",
    "    for j in range(i+1):\n",
    "        print(f\" {counter} \", end=' ')\n",
    "        counter += 1\n",
    "    print(\"\\n\")"
   ]
  },
  {
   "cell_type": "code",
   "execution_count": 33,
   "metadata": {},
   "outputs": [
    {
     "name": "stdout",
     "output_type": "stream",
     "text": [
      " 0  \n",
      "\n",
      " 1   1  \n",
      "\n",
      " 2   2   2  \n",
      "\n",
      " 3   3   3   3  \n",
      "\n",
      " 4   4   4   4   4  \n",
      "\n"
     ]
    }
   ],
   "source": [
    "for i in range(5):\n",
    "    for j in range(i+1):\n",
    "        print(f\" {i} \", end=' ')\n",
    "    print(\"\\n\")"
   ]
  },
  {
   "cell_type": "code",
   "execution_count": 34,
   "metadata": {},
   "outputs": [
    {
     "name": "stdout",
     "output_type": "stream",
     "text": [
      " 0  \n",
      "\n",
      " 0   1  \n",
      "\n",
      " 0   1   2  \n",
      "\n",
      " 0   1   2   3  \n",
      "\n",
      " 0   1   2   3   4  \n",
      "\n"
     ]
    }
   ],
   "source": [
    "for i in range(5):\n",
    "    for j in range(i+1):\n",
    "        print(f\" {j} \", end=' ')\n",
    "    print(\"\\n\")"
   ]
  },
  {
   "cell_type": "code",
   "execution_count": 36,
   "metadata": {},
   "outputs": [
    {
     "name": "stdout",
     "output_type": "stream",
     "text": [
      " A  \n",
      "\n",
      " B   C  \n",
      "\n",
      " D   E   F  \n",
      "\n",
      " G   H   I   J  \n",
      "\n",
      " K   L   M   N   O  \n",
      "\n"
     ]
    }
   ],
   "source": [
    "counter = 65\n",
    "for i in range(5):\n",
    "    for j in range(i+1):\n",
    "        print(f\" {chr(counter)} \", end=' ')\n",
    "        counter += 1\n",
    "    print(\"\\n\")"
   ]
  },
  {
   "cell_type": "code",
   "execution_count": 35,
   "metadata": {},
   "outputs": [
    {
     "data": {
      "text/plain": [
       "'A'"
      ]
     },
     "execution_count": 35,
     "metadata": {},
     "output_type": "execute_result"
    }
   ],
   "source": [
    "chr(65)"
   ]
  },
  {
   "cell_type": "code",
   "execution_count": 44,
   "metadata": {},
   "outputs": [
    {
     "name": "stdout",
     "output_type": "stream",
     "text": [
      " A \n",
      "\n",
      " A  B \n",
      "\n",
      " C  E  G \n",
      "\n",
      " I  L  O  R \n",
      "\n",
      " U  Y  ]  a  e \n",
      "\n"
     ]
    }
   ],
   "source": [
    "counter = 65\n",
    "for i in range(5):\n",
    "    for j in range(i+1):\n",
    "        print(f\" {chr(counter)}\", end=' ')\n",
    "        counter += i\n",
    "    print(\"\\n\")"
   ]
  },
  {
   "cell_type": "code",
   "execution_count": 42,
   "metadata": {},
   "outputs": [
    {
     "name": "stdout",
     "output_type": "stream",
     "text": [
      " A  \n",
      "\n",
      " A   A  \n",
      "\n",
      " B   B   C  \n",
      "\n",
      " E   E   F   H  \n",
      "\n",
      " K   K   L   N   Q  \n",
      "\n"
     ]
    }
   ],
   "source": [
    "counter = 65\n",
    "for i in range(5):\n",
    "    for j in range(i+1):\n",
    "        print(f\" {chr(counter)} \", end=' ')\n",
    "        counter += j\n",
    "    print(\"\\n\")"
   ]
  },
  {
   "cell_type": "code",
   "execution_count": 43,
   "metadata": {},
   "outputs": [
    {
     "name": "stdout",
     "output_type": "stream",
     "text": [
      " A  \n",
      "\n",
      " B   B  \n",
      "\n",
      " C   C   C  \n",
      "\n",
      " D   D   D   D  \n",
      "\n",
      " E   E   E   E   E  \n",
      "\n"
     ]
    }
   ],
   "source": [
    "counter = 65\n",
    "for i in range(5):\n",
    "    for j in range(i+1):\n",
    "        print(f\" {chr(counter)} \", end=' ')\n",
    "    counter += 1\n",
    "    print(\"\\n\")"
   ]
  },
  {
   "cell_type": "code",
   "execution_count": 45,
   "metadata": {},
   "outputs": [
    {
     "name": "stdout",
     "output_type": "stream",
     "text": [
      " A  \n",
      "\n",
      " A   A  \n",
      "\n",
      " B   B   B  \n",
      "\n",
      " D   D   D   D  \n",
      "\n",
      " G   G   G   G   G  \n",
      "\n"
     ]
    }
   ],
   "source": [
    "counter = 65\n",
    "for i in range(5):\n",
    "    for j in range(i+1):\n",
    "        print(f\" {chr(counter)} \", end=' ')\n",
    "    counter += i\n",
    "    print(\"\\n\")"
   ]
  },
  {
   "cell_type": "code",
   "execution_count": 46,
   "metadata": {},
   "outputs": [
    {
     "name": "stdout",
     "output_type": "stream",
     "text": [
      " A  \n",
      "\n",
      " A   A  \n",
      "\n",
      " B   B   B  \n",
      "\n",
      " D   D   D   D  \n",
      "\n",
      " G   G   G   G   G  \n",
      "\n"
     ]
    }
   ],
   "source": [
    "counter = 65\n",
    "for i in range(5):\n",
    "    for j in range(i+1):\n",
    "        print(f\" {chr(counter)} \", end=' ')\n",
    "    counter += j\n",
    "    print(\"\\n\")"
   ]
  },
  {
   "cell_type": "code",
   "execution_count": null,
   "metadata": {},
   "outputs": [],
   "source": []
  }
 ],
 "metadata": {
  "kernelspec": {
   "display_name": "base",
   "language": "python",
   "name": "python3"
  },
  "language_info": {
   "codemirror_mode": {
    "name": "ipython",
    "version": 3
   },
   "file_extension": ".py",
   "mimetype": "text/x-python",
   "name": "python",
   "nbconvert_exporter": "python",
   "pygments_lexer": "ipython3",
   "version": "3.11.4"
  }
 },
 "nbformat": 4,
 "nbformat_minor": 2
}
