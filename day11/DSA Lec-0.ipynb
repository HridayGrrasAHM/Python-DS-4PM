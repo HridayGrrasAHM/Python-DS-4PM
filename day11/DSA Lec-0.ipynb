{
 "cells": [
  {
   "cell_type": "code",
   "execution_count": 1,
   "metadata": {},
   "outputs": [
    {
     "name": "stdout",
     "output_type": "stream",
     "text": [
      "Hello world\n"
     ]
    }
   ],
   "source": [
    "print(\"Hello world\")"
   ]
  },
  {
   "cell_type": "markdown",
   "metadata": {},
   "source": [
    "# Sort\n",
    "<ul>\n",
    "<li>Bubble sort</li>\n",
    "<li>Insertion Sort</li>\n",
    "<li>Selection sort</li>\n",
    "<li>Merge Sort</li>\n",
    "<li>Quick Sort</li>\n",
    "</ul>"
   ]
  },
  {
   "cell_type": "code",
   "execution_count": 3,
   "metadata": {},
   "outputs": [],
   "source": [
    "# Phase 1\n",
    "# 10, 1, 4, 5, 8, 9\n",
    "# 1, 10, 4, 5, 8, 9\n",
    "\n",
    "# Phase 2\n",
    "# 1, 10, 4, 5, 8, 9\n",
    "# 1, 4, 10, 5, 8, 9\n",
    "# 1, 4, 5, 10, 8, 9\n",
    "# 1, 4, 5, 8, 10, 9\n",
    "# 1, 4, 5, 8, 9, 10 (Final sort)"
   ]
  },
  {
   "cell_type": "code",
   "execution_count": 4,
   "metadata": {},
   "outputs": [],
   "source": [
    "def bubbleSort(elements):\n",
    "    swapped = False\n",
    "    for i in range(len(elements)-1, 0, -1):\n",
    "        for j in range(i):\n",
    "            if elements[j] > elements[j+1]:\n",
    "                swapped = True\n",
    "                temp = 0\n",
    "                temp = elements[j]\n",
    "                elements[j] = elements[j+1]\n",
    "                elements[j+1] = temp\n",
    "    return elements\n",
    "        "
   ]
  },
  {
   "cell_type": "code",
   "execution_count": 5,
   "metadata": {},
   "outputs": [],
   "source": [
    "elements = [-2, 45, 0, 11, -9]"
   ]
  },
  {
   "cell_type": "code",
   "execution_count": 6,
   "metadata": {},
   "outputs": [
    {
     "name": "stdout",
     "output_type": "stream",
     "text": [
      "Before sorting\n",
      "[-2, 45, 0, 11, -9]\n",
      "After sorting\n",
      "[-9, -2, 0, 11, 45]\n"
     ]
    }
   ],
   "source": [
    "print(\"Before sorting\")\n",
    "print(elements)\n",
    "print(\"After sorting\")\n",
    "print(bubbleSort(elements))"
   ]
  },
  {
   "cell_type": "code",
   "execution_count": 7,
   "metadata": {},
   "outputs": [],
   "source": [
    "from random import randint"
   ]
  },
  {
   "cell_type": "code",
   "execution_count": 8,
   "metadata": {},
   "outputs": [],
   "source": [
    "newL = [randint(-10, 10) for i in range(20)]"
   ]
  },
  {
   "cell_type": "code",
   "execution_count": 9,
   "metadata": {},
   "outputs": [
    {
     "data": {
      "text/plain": [
       "[5, -4, 1, 6, -6, -7, -6, 0, 10, 9, 10, -2, -5, -4, 8, -8, -7, 0, -3, 9]"
      ]
     },
     "execution_count": 9,
     "metadata": {},
     "output_type": "execute_result"
    }
   ],
   "source": [
    "newL"
   ]
  },
  {
   "cell_type": "code",
   "execution_count": 10,
   "metadata": {},
   "outputs": [
    {
     "name": "stdout",
     "output_type": "stream",
     "text": [
      "[-8, -7, -7, -6, -6, -5, -4, -4, -3, -2, 0, 0, 1, 5, 6, 8, 9, 9, 10, 10]\n"
     ]
    }
   ],
   "source": [
    "print(bubbleSort(newL))"
   ]
  },
  {
   "cell_type": "markdown",
   "metadata": {},
   "source": [
    "# Merge Sort\n",
    "#### divide and conqur"
   ]
  },
  {
   "cell_type": "code",
   "execution_count": 12,
   "metadata": {},
   "outputs": [],
   "source": [
    "# 10, 1, 4, 5, 8, 9\n",
    "# [10, 1, 4] [5, 8, 9]\n",
    "# [10, 1] [4] [5, 8] [9]\n",
    "# [10] [1] [4] [5] [8] [9]\n",
    "# [1] [10] [4] [5] [8] [9]\n",
    "# [1, 10] [4] [5, 8] [9]\n",
    "# [1, 4, 10] [5, 8, 9]\n",
    "# [1, 4, 5, 8, 9, 10]"
   ]
  },
  {
   "cell_type": "code",
   "execution_count": 13,
   "metadata": {},
   "outputs": [],
   "source": [
    "def mergeSort(array):\n",
    "    if len(array) > 1:\n",
    "        r = len(array)//2  # responsible for sub dividing the array into 2\n",
    "        L = array[:r] \n",
    "        M = array[r:]\n",
    "\n",
    "        # Sort the two halves\n",
    "        mergeSort(L)\n",
    "        mergeSort(M)\n",
    "\n",
    "        i=j=k=0\n",
    "\n",
    "        while i<len(L) and j<len(M):\n",
    "            if L[i] < M[j]:\n",
    "                array[k] = L[i]\n",
    "                i += 1\n",
    "            else:\n",
    "                array[k] = M[j]\n",
    "                j += 1\n",
    "            k += 1\n",
    "\n",
    "        \n",
    "        while i<len(L):\n",
    "            array[k] = L[i]\n",
    "            i += 1\n",
    "            k += 1\n",
    "        \n",
    "        while j<len(M):\n",
    "            array[k] = M[j]\n",
    "            j += 1\n",
    "            k += 1\n",
    "\n",
    "# function to print array\n",
    "def printList(array):\n",
    "    for i in range(len(array)):\n",
    "        print(array[i], end=' ')\n",
    "    print()"
   ]
  },
  {
   "cell_type": "code",
   "execution_count": 16,
   "metadata": {},
   "outputs": [
    {
     "name": "stdout",
     "output_type": "stream",
     "text": [
      "Before sorting\n",
      "[6, 5, 12, 10, 9, 1]\n",
      "After sorting\n",
      "[1, 5, 6, 9, 10, 12]\n"
     ]
    }
   ],
   "source": [
    "data = [6, 5, 12, 10, 9, 1]\n",
    "print(\"Before sorting\")\n",
    "print(data)\n",
    "print(\"After sorting\")\n",
    "mergeSort(data)\n",
    "print(data)\n",
    "# printList(data)"
   ]
  },
  {
   "cell_type": "markdown",
   "metadata": {},
   "source": [
    "# Quick sort\n",
    "#### pivoting"
   ]
  },
  {
   "cell_type": "code",
   "execution_count": 23,
   "metadata": {},
   "outputs": [],
   "source": [
    "def partition(array, low, high):\n",
    "    pivot = array[high]\n",
    "    i = low-1\n",
    "                  # (0L, 0R)\n",
    "    for j in range(low, high):\n",
    "        if array[j] <= pivot:\n",
    "            i = i+1\n",
    "            (array[i], array[j]) = (array[j], array[i])\n",
    "    \n",
    "    (array[i+1], array[high]) = (array[high], array[i+1])\n",
    "\n",
    "    return i+1\n",
    "\n",
    "def quickSort(array, low, high):\n",
    "    if low<high:\n",
    "        pi = partition(array, low, high)\n",
    "\n",
    "        # for left side\n",
    "        quickSort(array, low, pi-1)\n",
    "\n",
    "        # for right side\n",
    "        quickSort(array, pi+1, high)\n"
   ]
  },
  {
   "cell_type": "code",
   "execution_count": 28,
   "metadata": {},
   "outputs": [],
   "source": [
    "data = [8, 7, 2, 1, -10, 9, 6]"
   ]
  },
  {
   "cell_type": "code",
   "execution_count": 29,
   "metadata": {},
   "outputs": [],
   "source": [
    "size = len(data)"
   ]
  },
  {
   "cell_type": "code",
   "execution_count": 35,
   "metadata": {},
   "outputs": [],
   "source": [
    "quickSort(data, 0, size-1)"
   ]
  },
  {
   "cell_type": "code",
   "execution_count": 36,
   "metadata": {},
   "outputs": [
    {
     "name": "stdout",
     "output_type": "stream",
     "text": [
      "[-10, 1, 2, 6, 7, 8, 9]\n"
     ]
    }
   ],
   "source": [
    "print(data)"
   ]
  },
  {
   "cell_type": "code",
   "execution_count": 32,
   "metadata": {},
   "outputs": [],
   "source": [
    "# 8, 7, 2, 1, 0, 9, 6\n",
    "# [8, 7, 2, 1] [0, 9, 6]\n",
    "# [8, 7, 2] [0, 1] [9, 6]\n",
    "# [8, 7, 2] [0, 1, 6] [9]\n",
    "# [8, 7] [0, 1, 2, 6, 9]\n",
    "# [8] [0, 1, 2, 6, 7, 9]\n",
    "# [0, 1, 2, 6, 7, 8, 9]"
   ]
  },
  {
   "cell_type": "code",
   "execution_count": 33,
   "metadata": {},
   "outputs": [
    {
     "ename": "IndexError",
     "evalue": "list index out of range",
     "output_type": "error",
     "traceback": [
      "\u001b[1;31m---------------------------------------------------------------------------\u001b[0m",
      "\u001b[1;31mIndexError\u001b[0m                                Traceback (most recent call last)",
      "\u001b[1;32mUntitled-1.ipynb Cell 22\u001b[0m line \u001b[0;36m1\n\u001b[1;32m----> <a href='vscode-notebook-cell:Untitled-1.ipynb?jupyter-notebook#X33sdW50aXRsZWQ%3D?line=0'>1</a>\u001b[0m data[\u001b[39m7\u001b[39;49m]\n",
      "\u001b[1;31mIndexError\u001b[0m: list index out of range"
     ]
    }
   ],
   "source": [
    "data[7]"
   ]
  },
  {
   "cell_type": "code",
   "execution_count": null,
   "metadata": {},
   "outputs": [],
   "source": []
  }
 ],
 "metadata": {
  "kernelspec": {
   "display_name": "Python 3",
   "language": "python",
   "name": "python3"
  },
  "language_info": {
   "codemirror_mode": {
    "name": "ipython",
    "version": 3
   },
   "file_extension": ".py",
   "mimetype": "text/x-python",
   "name": "python",
   "nbconvert_exporter": "python",
   "pygments_lexer": "ipython3",
   "version": "3.11.4"
  }
 },
 "nbformat": 4,
 "nbformat_minor": 2
}
